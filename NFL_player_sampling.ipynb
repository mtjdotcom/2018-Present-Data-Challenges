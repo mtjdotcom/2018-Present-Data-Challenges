{
 "cells": [
  {
   "cell_type": "code",
   "execution_count": 1,
   "metadata": {
    "collapsed": true
   },
   "outputs": [],
   "source": [
    "import pandas as pd\n",
    "import numpy as np\n",
    "import matplotlib.pyplot as plt"
   ]
  },
  {
   "cell_type": "code",
   "execution_count": 2,
   "metadata": {
    "collapsed": false
   },
   "outputs": [],
   "source": [
    "wnba = pd.read_csv('wnba Stats.csv')"
   ]
  },
  {
   "cell_type": "code",
   "execution_count": 3,
   "metadata": {
    "collapsed": false
   },
   "outputs": [
    {
     "data": {
      "text/plain": [
       "(143, 32)"
      ]
     },
     "execution_count": 3,
     "metadata": {},
     "output_type": "execute_result"
    }
   ],
   "source": [
    "wnba.shape"
   ]
  },
  {
   "cell_type": "code",
   "execution_count": 4,
   "metadata": {
    "collapsed": false
   },
   "outputs": [
    {
     "data": {
      "text/html": [
       "<div>\n",
       "<style scoped>\n",
       "    .dataframe tbody tr th:only-of-type {\n",
       "        vertical-align: middle;\n",
       "    }\n",
       "\n",
       "    .dataframe tbody tr th {\n",
       "        vertical-align: top;\n",
       "    }\n",
       "\n",
       "    .dataframe thead th {\n",
       "        text-align: right;\n",
       "    }\n",
       "</style>\n",
       "<table border=\"1\" class=\"dataframe\">\n",
       "  <thead>\n",
       "    <tr style=\"text-align: right;\">\n",
       "      <th></th>\n",
       "      <th>Name</th>\n",
       "      <th>Team</th>\n",
       "      <th>Pos</th>\n",
       "      <th>Height</th>\n",
       "      <th>Weight</th>\n",
       "      <th>BMI</th>\n",
       "      <th>Birth_Place</th>\n",
       "      <th>Birthdate</th>\n",
       "      <th>Age</th>\n",
       "      <th>College</th>\n",
       "      <th>...</th>\n",
       "      <th>OREB</th>\n",
       "      <th>DREB</th>\n",
       "      <th>REB</th>\n",
       "      <th>AST</th>\n",
       "      <th>STL</th>\n",
       "      <th>BLK</th>\n",
       "      <th>TO</th>\n",
       "      <th>PTS</th>\n",
       "      <th>DD2</th>\n",
       "      <th>TD3</th>\n",
       "    </tr>\n",
       "  </thead>\n",
       "  <tbody>\n",
       "    <tr>\n",
       "      <th>0</th>\n",
       "      <td>Aerial Powers</td>\n",
       "      <td>DAL</td>\n",
       "      <td>F</td>\n",
       "      <td>183</td>\n",
       "      <td>71.0</td>\n",
       "      <td>21.200991</td>\n",
       "      <td>US</td>\n",
       "      <td>January 17, 1994</td>\n",
       "      <td>23</td>\n",
       "      <td>Michigan State</td>\n",
       "      <td>...</td>\n",
       "      <td>6</td>\n",
       "      <td>22</td>\n",
       "      <td>28</td>\n",
       "      <td>12</td>\n",
       "      <td>3</td>\n",
       "      <td>6</td>\n",
       "      <td>12</td>\n",
       "      <td>93</td>\n",
       "      <td>0</td>\n",
       "      <td>0</td>\n",
       "    </tr>\n",
       "    <tr>\n",
       "      <th>1</th>\n",
       "      <td>Alana Beard</td>\n",
       "      <td>LA</td>\n",
       "      <td>G/F</td>\n",
       "      <td>185</td>\n",
       "      <td>73.0</td>\n",
       "      <td>21.329438</td>\n",
       "      <td>US</td>\n",
       "      <td>May 14, 1982</td>\n",
       "      <td>35</td>\n",
       "      <td>Duke</td>\n",
       "      <td>...</td>\n",
       "      <td>19</td>\n",
       "      <td>82</td>\n",
       "      <td>101</td>\n",
       "      <td>72</td>\n",
       "      <td>63</td>\n",
       "      <td>13</td>\n",
       "      <td>40</td>\n",
       "      <td>217</td>\n",
       "      <td>0</td>\n",
       "      <td>0</td>\n",
       "    </tr>\n",
       "    <tr>\n",
       "      <th>2</th>\n",
       "      <td>Alex Bentley</td>\n",
       "      <td>CON</td>\n",
       "      <td>G</td>\n",
       "      <td>170</td>\n",
       "      <td>69.0</td>\n",
       "      <td>23.875433</td>\n",
       "      <td>US</td>\n",
       "      <td>October 27, 1990</td>\n",
       "      <td>26</td>\n",
       "      <td>Penn State</td>\n",
       "      <td>...</td>\n",
       "      <td>4</td>\n",
       "      <td>36</td>\n",
       "      <td>40</td>\n",
       "      <td>78</td>\n",
       "      <td>22</td>\n",
       "      <td>3</td>\n",
       "      <td>24</td>\n",
       "      <td>218</td>\n",
       "      <td>0</td>\n",
       "      <td>0</td>\n",
       "    </tr>\n",
       "    <tr>\n",
       "      <th>3</th>\n",
       "      <td>Alex Montgomery</td>\n",
       "      <td>SAN</td>\n",
       "      <td>G/F</td>\n",
       "      <td>185</td>\n",
       "      <td>84.0</td>\n",
       "      <td>24.543462</td>\n",
       "      <td>US</td>\n",
       "      <td>December 11, 1988</td>\n",
       "      <td>28</td>\n",
       "      <td>Georgia Tech</td>\n",
       "      <td>...</td>\n",
       "      <td>35</td>\n",
       "      <td>134</td>\n",
       "      <td>169</td>\n",
       "      <td>65</td>\n",
       "      <td>20</td>\n",
       "      <td>10</td>\n",
       "      <td>38</td>\n",
       "      <td>188</td>\n",
       "      <td>2</td>\n",
       "      <td>0</td>\n",
       "    </tr>\n",
       "    <tr>\n",
       "      <th>4</th>\n",
       "      <td>Alexis Jones</td>\n",
       "      <td>MIN</td>\n",
       "      <td>G</td>\n",
       "      <td>175</td>\n",
       "      <td>78.0</td>\n",
       "      <td>25.469388</td>\n",
       "      <td>US</td>\n",
       "      <td>August 5, 1994</td>\n",
       "      <td>23</td>\n",
       "      <td>Baylor</td>\n",
       "      <td>...</td>\n",
       "      <td>3</td>\n",
       "      <td>9</td>\n",
       "      <td>12</td>\n",
       "      <td>12</td>\n",
       "      <td>7</td>\n",
       "      <td>0</td>\n",
       "      <td>14</td>\n",
       "      <td>50</td>\n",
       "      <td>0</td>\n",
       "      <td>0</td>\n",
       "    </tr>\n",
       "  </tbody>\n",
       "</table>\n",
       "<p>5 rows × 32 columns</p>\n",
       "</div>"
      ],
      "text/plain": [
       "              Name Team  Pos  Height  Weight        BMI Birth_Place  \\\n",
       "0    Aerial Powers  DAL    F     183    71.0  21.200991          US   \n",
       "1      Alana Beard   LA  G/F     185    73.0  21.329438          US   \n",
       "2     Alex Bentley  CON    G     170    69.0  23.875433          US   \n",
       "3  Alex Montgomery  SAN  G/F     185    84.0  24.543462          US   \n",
       "4     Alexis Jones  MIN    G     175    78.0  25.469388          US   \n",
       "\n",
       "           Birthdate  Age         College ...  OREB  DREB  REB  AST  STL  BLK  \\\n",
       "0   January 17, 1994   23  Michigan State ...     6    22   28   12    3    6   \n",
       "1       May 14, 1982   35            Duke ...    19    82  101   72   63   13   \n",
       "2   October 27, 1990   26      Penn State ...     4    36   40   78   22    3   \n",
       "3  December 11, 1988   28    Georgia Tech ...    35   134  169   65   20   10   \n",
       "4     August 5, 1994   23          Baylor ...     3     9   12   12    7    0   \n",
       "\n",
       "   TO  PTS  DD2  TD3  \n",
       "0  12   93    0    0  \n",
       "1  40  217    0    0  \n",
       "2  24  218    0    0  \n",
       "3  38  188    2    0  \n",
       "4  14   50    0    0  \n",
       "\n",
       "[5 rows x 32 columns]"
      ]
     },
     "execution_count": 4,
     "metadata": {},
     "output_type": "execute_result"
    }
   ],
   "source": [
    "wnba.head()"
   ]
  },
  {
   "cell_type": "code",
   "execution_count": 5,
   "metadata": {
    "collapsed": true
   },
   "outputs": [],
   "source": [
    "parameter = wnba[\"Games Played\"].max()"
   ]
  },
  {
   "cell_type": "code",
   "execution_count": 6,
   "metadata": {
    "collapsed": false
   },
   "outputs": [
    {
     "data": {
      "text/plain": [
       "32"
      ]
     },
     "execution_count": 6,
     "metadata": {},
     "output_type": "execute_result"
    }
   ],
   "source": [
    "parameter"
   ]
  },
  {
   "cell_type": "markdown",
   "metadata": {},
   "source": [
    "Using the Series.sample() method, sample randomly 30 players from the population, and assign the result to a variable named sample. When calling Series.sample(), use the the argument random_state = 1. This makes your results reproducible and helps us with the answer checking (we'll discuss more about this in the next screen)."
   ]
  },
  {
   "cell_type": "code",
   "execution_count": 7,
   "metadata": {
    "collapsed": true
   },
   "outputs": [],
   "source": [
    "sample = wnba.sample(n=30, random_state =1)"
   ]
  },
  {
   "cell_type": "code",
   "execution_count": 8,
   "metadata": {
    "collapsed": false
   },
   "outputs": [
    {
     "data": {
      "text/html": [
       "<div>\n",
       "<style scoped>\n",
       "    .dataframe tbody tr th:only-of-type {\n",
       "        vertical-align: middle;\n",
       "    }\n",
       "\n",
       "    .dataframe tbody tr th {\n",
       "        vertical-align: top;\n",
       "    }\n",
       "\n",
       "    .dataframe thead th {\n",
       "        text-align: right;\n",
       "    }\n",
       "</style>\n",
       "<table border=\"1\" class=\"dataframe\">\n",
       "  <thead>\n",
       "    <tr style=\"text-align: right;\">\n",
       "      <th></th>\n",
       "      <th>Name</th>\n",
       "      <th>Team</th>\n",
       "      <th>Pos</th>\n",
       "      <th>Height</th>\n",
       "      <th>Weight</th>\n",
       "      <th>BMI</th>\n",
       "      <th>Birth_Place</th>\n",
       "      <th>Birthdate</th>\n",
       "      <th>Age</th>\n",
       "      <th>College</th>\n",
       "      <th>...</th>\n",
       "      <th>OREB</th>\n",
       "      <th>DREB</th>\n",
       "      <th>REB</th>\n",
       "      <th>AST</th>\n",
       "      <th>STL</th>\n",
       "      <th>BLK</th>\n",
       "      <th>TO</th>\n",
       "      <th>PTS</th>\n",
       "      <th>DD2</th>\n",
       "      <th>TD3</th>\n",
       "    </tr>\n",
       "  </thead>\n",
       "  <tbody>\n",
       "    <tr>\n",
       "      <th>78</th>\n",
       "      <td>Keisha Hampton</td>\n",
       "      <td>CHI</td>\n",
       "      <td>F</td>\n",
       "      <td>185</td>\n",
       "      <td>78.0</td>\n",
       "      <td>22.790358</td>\n",
       "      <td>US</td>\n",
       "      <td>February 22, 1990</td>\n",
       "      <td>27</td>\n",
       "      <td>DePaul</td>\n",
       "      <td>...</td>\n",
       "      <td>36</td>\n",
       "      <td>59</td>\n",
       "      <td>95</td>\n",
       "      <td>24</td>\n",
       "      <td>20</td>\n",
       "      <td>7</td>\n",
       "      <td>21</td>\n",
       "      <td>207</td>\n",
       "      <td>0</td>\n",
       "      <td>0</td>\n",
       "    </tr>\n",
       "    <tr>\n",
       "      <th>116</th>\n",
       "      <td>Saniya Chong</td>\n",
       "      <td>DAL</td>\n",
       "      <td>G</td>\n",
       "      <td>173</td>\n",
       "      <td>64.0</td>\n",
       "      <td>21.383942</td>\n",
       "      <td>US</td>\n",
       "      <td>June 27, 1994</td>\n",
       "      <td>23</td>\n",
       "      <td>Connecticut</td>\n",
       "      <td>...</td>\n",
       "      <td>9</td>\n",
       "      <td>19</td>\n",
       "      <td>28</td>\n",
       "      <td>33</td>\n",
       "      <td>21</td>\n",
       "      <td>3</td>\n",
       "      <td>23</td>\n",
       "      <td>87</td>\n",
       "      <td>0</td>\n",
       "      <td>0</td>\n",
       "    </tr>\n",
       "    <tr>\n",
       "      <th>31</th>\n",
       "      <td>Carolyn Swords</td>\n",
       "      <td>SEA</td>\n",
       "      <td>C</td>\n",
       "      <td>198</td>\n",
       "      <td>95.0</td>\n",
       "      <td>24.232221</td>\n",
       "      <td>US</td>\n",
       "      <td>July 19, 1989</td>\n",
       "      <td>28</td>\n",
       "      <td>Boston College</td>\n",
       "      <td>...</td>\n",
       "      <td>10</td>\n",
       "      <td>29</td>\n",
       "      <td>39</td>\n",
       "      <td>9</td>\n",
       "      <td>5</td>\n",
       "      <td>4</td>\n",
       "      <td>22</td>\n",
       "      <td>54</td>\n",
       "      <td>0</td>\n",
       "      <td>0</td>\n",
       "    </tr>\n",
       "    <tr>\n",
       "      <th>5</th>\n",
       "      <td>Alexis Peterson</td>\n",
       "      <td>SEA</td>\n",
       "      <td>G</td>\n",
       "      <td>170</td>\n",
       "      <td>63.0</td>\n",
       "      <td>21.799308</td>\n",
       "      <td>US</td>\n",
       "      <td>June 20, 1995</td>\n",
       "      <td>22</td>\n",
       "      <td>Syracuse</td>\n",
       "      <td>...</td>\n",
       "      <td>3</td>\n",
       "      <td>13</td>\n",
       "      <td>16</td>\n",
       "      <td>11</td>\n",
       "      <td>5</td>\n",
       "      <td>0</td>\n",
       "      <td>11</td>\n",
       "      <td>26</td>\n",
       "      <td>0</td>\n",
       "      <td>0</td>\n",
       "    </tr>\n",
       "    <tr>\n",
       "      <th>125</th>\n",
       "      <td>Stefanie Dolson</td>\n",
       "      <td>CHI</td>\n",
       "      <td>C</td>\n",
       "      <td>196</td>\n",
       "      <td>97.0</td>\n",
       "      <td>25.249896</td>\n",
       "      <td>US</td>\n",
       "      <td>August 1, 1992</td>\n",
       "      <td>25</td>\n",
       "      <td>Connecticut</td>\n",
       "      <td>...</td>\n",
       "      <td>35</td>\n",
       "      <td>121</td>\n",
       "      <td>156</td>\n",
       "      <td>65</td>\n",
       "      <td>14</td>\n",
       "      <td>37</td>\n",
       "      <td>65</td>\n",
       "      <td>398</td>\n",
       "      <td>3</td>\n",
       "      <td>0</td>\n",
       "    </tr>\n",
       "    <tr>\n",
       "      <th>45</th>\n",
       "      <td>Diana Taurasi</td>\n",
       "      <td>PHO</td>\n",
       "      <td>G</td>\n",
       "      <td>183</td>\n",
       "      <td>74.0</td>\n",
       "      <td>22.096808</td>\n",
       "      <td>US</td>\n",
       "      <td>November 6, 1982</td>\n",
       "      <td>34</td>\n",
       "      <td>Connecticut</td>\n",
       "      <td>...</td>\n",
       "      <td>31</td>\n",
       "      <td>98</td>\n",
       "      <td>129</td>\n",
       "      <td>32</td>\n",
       "      <td>20</td>\n",
       "      <td>31</td>\n",
       "      <td>28</td>\n",
       "      <td>376</td>\n",
       "      <td>3</td>\n",
       "      <td>0</td>\n",
       "    </tr>\n",
       "    <tr>\n",
       "      <th>14</th>\n",
       "      <td>Aneika Henry</td>\n",
       "      <td>ATL</td>\n",
       "      <td>F/C</td>\n",
       "      <td>193</td>\n",
       "      <td>87.0</td>\n",
       "      <td>23.356332</td>\n",
       "      <td>JM</td>\n",
       "      <td>February 13, 1986</td>\n",
       "      <td>31</td>\n",
       "      <td>Florida</td>\n",
       "      <td>...</td>\n",
       "      <td>0</td>\n",
       "      <td>4</td>\n",
       "      <td>4</td>\n",
       "      <td>1</td>\n",
       "      <td>2</td>\n",
       "      <td>0</td>\n",
       "      <td>3</td>\n",
       "      <td>8</td>\n",
       "      <td>0</td>\n",
       "      <td>0</td>\n",
       "    </tr>\n",
       "    <tr>\n",
       "      <th>44</th>\n",
       "      <td>Devereaux Peters</td>\n",
       "      <td>IND</td>\n",
       "      <td>F</td>\n",
       "      <td>188</td>\n",
       "      <td>79.0</td>\n",
       "      <td>22.351743</td>\n",
       "      <td>US</td>\n",
       "      <td>August 10, 1989</td>\n",
       "      <td>28</td>\n",
       "      <td>Notre Dame</td>\n",
       "      <td>...</td>\n",
       "      <td>8</td>\n",
       "      <td>69</td>\n",
       "      <td>77</td>\n",
       "      <td>76</td>\n",
       "      <td>16</td>\n",
       "      <td>9</td>\n",
       "      <td>56</td>\n",
       "      <td>514</td>\n",
       "      <td>0</td>\n",
       "      <td>0</td>\n",
       "    </tr>\n",
       "    <tr>\n",
       "      <th>73</th>\n",
       "      <td>Karima Christmas-Kelly</td>\n",
       "      <td>DAL</td>\n",
       "      <td>G/F</td>\n",
       "      <td>183</td>\n",
       "      <td>82.0</td>\n",
       "      <td>24.485652</td>\n",
       "      <td>US</td>\n",
       "      <td>November 9, 1989</td>\n",
       "      <td>27</td>\n",
       "      <td>Duke</td>\n",
       "      <td>...</td>\n",
       "      <td>4</td>\n",
       "      <td>10</td>\n",
       "      <td>14</td>\n",
       "      <td>6</td>\n",
       "      <td>1</td>\n",
       "      <td>1</td>\n",
       "      <td>13</td>\n",
       "      <td>65</td>\n",
       "      <td>0</td>\n",
       "      <td>0</td>\n",
       "    </tr>\n",
       "    <tr>\n",
       "      <th>89</th>\n",
       "      <td>Lynetta Kizer</td>\n",
       "      <td>CON</td>\n",
       "      <td>C</td>\n",
       "      <td>193</td>\n",
       "      <td>104.0</td>\n",
       "      <td>27.920213</td>\n",
       "      <td>US</td>\n",
       "      <td>April 4, 1990</td>\n",
       "      <td>27</td>\n",
       "      <td>Maryland</td>\n",
       "      <td>...</td>\n",
       "      <td>22</td>\n",
       "      <td>35</td>\n",
       "      <td>57</td>\n",
       "      <td>6</td>\n",
       "      <td>11</td>\n",
       "      <td>7</td>\n",
       "      <td>10</td>\n",
       "      <td>119</td>\n",
       "      <td>0</td>\n",
       "      <td>0</td>\n",
       "    </tr>\n",
       "    <tr>\n",
       "      <th>130</th>\n",
       "      <td>Sydney Wiese</td>\n",
       "      <td>LA</td>\n",
       "      <td>G</td>\n",
       "      <td>183</td>\n",
       "      <td>68.0</td>\n",
       "      <td>20.305175</td>\n",
       "      <td>US</td>\n",
       "      <td>July 13, 1992</td>\n",
       "      <td>25</td>\n",
       "      <td>Oregon State</td>\n",
       "      <td>...</td>\n",
       "      <td>3</td>\n",
       "      <td>18</td>\n",
       "      <td>21</td>\n",
       "      <td>6</td>\n",
       "      <td>4</td>\n",
       "      <td>3</td>\n",
       "      <td>2</td>\n",
       "      <td>55</td>\n",
       "      <td>0</td>\n",
       "      <td>0</td>\n",
       "    </tr>\n",
       "    <tr>\n",
       "      <th>53</th>\n",
       "      <td>Erlana Larkins</td>\n",
       "      <td>IND</td>\n",
       "      <td>F</td>\n",
       "      <td>185</td>\n",
       "      <td>93.0</td>\n",
       "      <td>27.173119</td>\n",
       "      <td>US</td>\n",
       "      <td>February 4, 1986</td>\n",
       "      <td>31</td>\n",
       "      <td>North Carolina</td>\n",
       "      <td>...</td>\n",
       "      <td>9</td>\n",
       "      <td>26</td>\n",
       "      <td>35</td>\n",
       "      <td>24</td>\n",
       "      <td>11</td>\n",
       "      <td>8</td>\n",
       "      <td>13</td>\n",
       "      <td>102</td>\n",
       "      <td>0</td>\n",
       "      <td>0</td>\n",
       "    </tr>\n",
       "    <tr>\n",
       "      <th>85</th>\n",
       "      <td>Layshia Clarendon</td>\n",
       "      <td>ATL</td>\n",
       "      <td>G</td>\n",
       "      <td>175</td>\n",
       "      <td>64.0</td>\n",
       "      <td>20.897959</td>\n",
       "      <td>US</td>\n",
       "      <td>February 5, 1991</td>\n",
       "      <td>26</td>\n",
       "      <td>UC Berkeley</td>\n",
       "      <td>...</td>\n",
       "      <td>27</td>\n",
       "      <td>88</td>\n",
       "      <td>115</td>\n",
       "      <td>206</td>\n",
       "      <td>29</td>\n",
       "      <td>1</td>\n",
       "      <td>82</td>\n",
       "      <td>329</td>\n",
       "      <td>3</td>\n",
       "      <td>0</td>\n",
       "    </tr>\n",
       "    <tr>\n",
       "      <th>93</th>\n",
       "      <td>Matee Ajavon</td>\n",
       "      <td>ATL</td>\n",
       "      <td>G</td>\n",
       "      <td>173</td>\n",
       "      <td>73.0</td>\n",
       "      <td>24.391059</td>\n",
       "      <td>US</td>\n",
       "      <td>July 5, 1986</td>\n",
       "      <td>31</td>\n",
       "      <td>Syracruse</td>\n",
       "      <td>...</td>\n",
       "      <td>8</td>\n",
       "      <td>26</td>\n",
       "      <td>34</td>\n",
       "      <td>27</td>\n",
       "      <td>10</td>\n",
       "      <td>0</td>\n",
       "      <td>26</td>\n",
       "      <td>73</td>\n",
       "      <td>0</td>\n",
       "      <td>0</td>\n",
       "    </tr>\n",
       "    <tr>\n",
       "      <th>29</th>\n",
       "      <td>Candice Dupree</td>\n",
       "      <td>IND</td>\n",
       "      <td>F</td>\n",
       "      <td>188</td>\n",
       "      <td>81.0</td>\n",
       "      <td>22.917610</td>\n",
       "      <td>US</td>\n",
       "      <td>February 25, 1984</td>\n",
       "      <td>33</td>\n",
       "      <td>Temple</td>\n",
       "      <td>...</td>\n",
       "      <td>31</td>\n",
       "      <td>124</td>\n",
       "      <td>155</td>\n",
       "      <td>47</td>\n",
       "      <td>28</td>\n",
       "      <td>12</td>\n",
       "      <td>42</td>\n",
       "      <td>435</td>\n",
       "      <td>2</td>\n",
       "      <td>0</td>\n",
       "    </tr>\n",
       "    <tr>\n",
       "      <th>16</th>\n",
       "      <td>Asia Taylor</td>\n",
       "      <td>WAS</td>\n",
       "      <td>F</td>\n",
       "      <td>185</td>\n",
       "      <td>76.0</td>\n",
       "      <td>22.205990</td>\n",
       "      <td>US</td>\n",
       "      <td>August 22, 1991</td>\n",
       "      <td>26</td>\n",
       "      <td>Louisville</td>\n",
       "      <td>...</td>\n",
       "      <td>16</td>\n",
       "      <td>21</td>\n",
       "      <td>37</td>\n",
       "      <td>9</td>\n",
       "      <td>5</td>\n",
       "      <td>2</td>\n",
       "      <td>10</td>\n",
       "      <td>31</td>\n",
       "      <td>0</td>\n",
       "      <td>0</td>\n",
       "    </tr>\n",
       "    <tr>\n",
       "      <th>35</th>\n",
       "      <td>Clarissa dos Santos</td>\n",
       "      <td>SAN</td>\n",
       "      <td>C</td>\n",
       "      <td>185</td>\n",
       "      <td>89.0</td>\n",
       "      <td>26.004383</td>\n",
       "      <td>BR</td>\n",
       "      <td>October 3, 1988</td>\n",
       "      <td>28</td>\n",
       "      <td>Brazil</td>\n",
       "      <td>...</td>\n",
       "      <td>3</td>\n",
       "      <td>7</td>\n",
       "      <td>10</td>\n",
       "      <td>7</td>\n",
       "      <td>1</td>\n",
       "      <td>1</td>\n",
       "      <td>5</td>\n",
       "      <td>17</td>\n",
       "      <td>0</td>\n",
       "      <td>0</td>\n",
       "    </tr>\n",
       "    <tr>\n",
       "      <th>90</th>\n",
       "      <td>Maimouna Diarra</td>\n",
       "      <td>LA</td>\n",
       "      <td>C</td>\n",
       "      <td>198</td>\n",
       "      <td>90.0</td>\n",
       "      <td>22.956841</td>\n",
       "      <td>SN</td>\n",
       "      <td>January 30, 1991</td>\n",
       "      <td>26</td>\n",
       "      <td>Sengal</td>\n",
       "      <td>...</td>\n",
       "      <td>3</td>\n",
       "      <td>4</td>\n",
       "      <td>7</td>\n",
       "      <td>1</td>\n",
       "      <td>1</td>\n",
       "      <td>0</td>\n",
       "      <td>3</td>\n",
       "      <td>3</td>\n",
       "      <td>0</td>\n",
       "      <td>0</td>\n",
       "    </tr>\n",
       "    <tr>\n",
       "      <th>83</th>\n",
       "      <td>Krystal Thomas</td>\n",
       "      <td>WAS</td>\n",
       "      <td>C</td>\n",
       "      <td>196</td>\n",
       "      <td>88.0</td>\n",
       "      <td>22.907122</td>\n",
       "      <td>US</td>\n",
       "      <td>October 6, 1989</td>\n",
       "      <td>27</td>\n",
       "      <td>Duke</td>\n",
       "      <td>...</td>\n",
       "      <td>97</td>\n",
       "      <td>172</td>\n",
       "      <td>269</td>\n",
       "      <td>30</td>\n",
       "      <td>15</td>\n",
       "      <td>31</td>\n",
       "      <td>45</td>\n",
       "      <td>199</td>\n",
       "      <td>2</td>\n",
       "      <td>0</td>\n",
       "    </tr>\n",
       "    <tr>\n",
       "      <th>19</th>\n",
       "      <td>Breanna Stewart</td>\n",
       "      <td>SEA</td>\n",
       "      <td>F/C</td>\n",
       "      <td>193</td>\n",
       "      <td>77.0</td>\n",
       "      <td>20.671696</td>\n",
       "      <td>US</td>\n",
       "      <td>August 27, 1994</td>\n",
       "      <td>22</td>\n",
       "      <td>Connecticut</td>\n",
       "      <td>...</td>\n",
       "      <td>43</td>\n",
       "      <td>206</td>\n",
       "      <td>249</td>\n",
       "      <td>78</td>\n",
       "      <td>29</td>\n",
       "      <td>47</td>\n",
       "      <td>68</td>\n",
       "      <td>584</td>\n",
       "      <td>8</td>\n",
       "      <td>0</td>\n",
       "    </tr>\n",
       "    <tr>\n",
       "      <th>40</th>\n",
       "      <td>Damiris Dantas</td>\n",
       "      <td>ATL</td>\n",
       "      <td>C</td>\n",
       "      <td>191</td>\n",
       "      <td>89.0</td>\n",
       "      <td>24.396261</td>\n",
       "      <td>BR</td>\n",
       "      <td>November 17, 1992</td>\n",
       "      <td>24</td>\n",
       "      <td>Brazil</td>\n",
       "      <td>...</td>\n",
       "      <td>29</td>\n",
       "      <td>84</td>\n",
       "      <td>113</td>\n",
       "      <td>19</td>\n",
       "      <td>17</td>\n",
       "      <td>18</td>\n",
       "      <td>26</td>\n",
       "      <td>254</td>\n",
       "      <td>0</td>\n",
       "      <td>0</td>\n",
       "    </tr>\n",
       "    <tr>\n",
       "      <th>92</th>\n",
       "      <td>Marissa Coleman</td>\n",
       "      <td>IND</td>\n",
       "      <td>G/F</td>\n",
       "      <td>185</td>\n",
       "      <td>73.0</td>\n",
       "      <td>21.329438</td>\n",
       "      <td>US</td>\n",
       "      <td>April 1, 1987</td>\n",
       "      <td>30</td>\n",
       "      <td>Maryland</td>\n",
       "      <td>...</td>\n",
       "      <td>7</td>\n",
       "      <td>53</td>\n",
       "      <td>60</td>\n",
       "      <td>25</td>\n",
       "      <td>8</td>\n",
       "      <td>4</td>\n",
       "      <td>34</td>\n",
       "      <td>154</td>\n",
       "      <td>0</td>\n",
       "      <td>0</td>\n",
       "    </tr>\n",
       "    <tr>\n",
       "      <th>122</th>\n",
       "      <td>Shekinna Stricklen</td>\n",
       "      <td>CON</td>\n",
       "      <td>G/F</td>\n",
       "      <td>188</td>\n",
       "      <td>81.0</td>\n",
       "      <td>22.917610</td>\n",
       "      <td>US</td>\n",
       "      <td>July 30, 1990</td>\n",
       "      <td>27</td>\n",
       "      <td>Tennessee</td>\n",
       "      <td>...</td>\n",
       "      <td>15</td>\n",
       "      <td>71</td>\n",
       "      <td>86</td>\n",
       "      <td>30</td>\n",
       "      <td>36</td>\n",
       "      <td>2</td>\n",
       "      <td>23</td>\n",
       "      <td>245</td>\n",
       "      <td>0</td>\n",
       "      <td>0</td>\n",
       "    </tr>\n",
       "    <tr>\n",
       "      <th>98</th>\n",
       "      <td>Natalie Achonwa</td>\n",
       "      <td>IND</td>\n",
       "      <td>C</td>\n",
       "      <td>193</td>\n",
       "      <td>83.0</td>\n",
       "      <td>22.282477</td>\n",
       "      <td>CA</td>\n",
       "      <td>November 22, 1992</td>\n",
       "      <td>24</td>\n",
       "      <td>Notre Dame</td>\n",
       "      <td>...</td>\n",
       "      <td>31</td>\n",
       "      <td>70</td>\n",
       "      <td>101</td>\n",
       "      <td>21</td>\n",
       "      <td>11</td>\n",
       "      <td>16</td>\n",
       "      <td>25</td>\n",
       "      <td>207</td>\n",
       "      <td>0</td>\n",
       "      <td>0</td>\n",
       "    </tr>\n",
       "    <tr>\n",
       "      <th>59</th>\n",
       "      <td>Ivory Latta</td>\n",
       "      <td>WAS</td>\n",
       "      <td>G</td>\n",
       "      <td>168</td>\n",
       "      <td>63.0</td>\n",
       "      <td>22.321429</td>\n",
       "      <td>US</td>\n",
       "      <td>September 25, 1984</td>\n",
       "      <td>32</td>\n",
       "      <td>North Carolina</td>\n",
       "      <td>...</td>\n",
       "      <td>7</td>\n",
       "      <td>20</td>\n",
       "      <td>27</td>\n",
       "      <td>49</td>\n",
       "      <td>12</td>\n",
       "      <td>1</td>\n",
       "      <td>22</td>\n",
       "      <td>245</td>\n",
       "      <td>0</td>\n",
       "      <td>0</td>\n",
       "    </tr>\n",
       "    <tr>\n",
       "      <th>42</th>\n",
       "      <td>Danielle Robinson</td>\n",
       "      <td>PHO</td>\n",
       "      <td>G</td>\n",
       "      <td>175</td>\n",
       "      <td>57.0</td>\n",
       "      <td>18.612245</td>\n",
       "      <td>US</td>\n",
       "      <td>October 5, 1989</td>\n",
       "      <td>27</td>\n",
       "      <td>Oklahoma</td>\n",
       "      <td>...</td>\n",
       "      <td>13</td>\n",
       "      <td>73</td>\n",
       "      <td>86</td>\n",
       "      <td>106</td>\n",
       "      <td>33</td>\n",
       "      <td>4</td>\n",
       "      <td>58</td>\n",
       "      <td>209</td>\n",
       "      <td>0</td>\n",
       "      <td>0</td>\n",
       "    </tr>\n",
       "    <tr>\n",
       "      <th>33</th>\n",
       "      <td>Chelsea Gray</td>\n",
       "      <td>LA</td>\n",
       "      <td>G</td>\n",
       "      <td>180</td>\n",
       "      <td>77.0</td>\n",
       "      <td>23.765432</td>\n",
       "      <td>US</td>\n",
       "      <td>August 10, 1992</td>\n",
       "      <td>25</td>\n",
       "      <td>Duke</td>\n",
       "      <td>...</td>\n",
       "      <td>19</td>\n",
       "      <td>80</td>\n",
       "      <td>99</td>\n",
       "      <td>132</td>\n",
       "      <td>29</td>\n",
       "      <td>7</td>\n",
       "      <td>61</td>\n",
       "      <td>456</td>\n",
       "      <td>1</td>\n",
       "      <td>0</td>\n",
       "    </tr>\n",
       "    <tr>\n",
       "      <th>99</th>\n",
       "      <td>Natasha Cloud</td>\n",
       "      <td>WAS</td>\n",
       "      <td>G</td>\n",
       "      <td>183</td>\n",
       "      <td>73.0</td>\n",
       "      <td>21.798202</td>\n",
       "      <td>US</td>\n",
       "      <td>February 22, 1992</td>\n",
       "      <td>25</td>\n",
       "      <td>Saint Joseph's</td>\n",
       "      <td>...</td>\n",
       "      <td>7</td>\n",
       "      <td>52</td>\n",
       "      <td>59</td>\n",
       "      <td>69</td>\n",
       "      <td>17</td>\n",
       "      <td>3</td>\n",
       "      <td>23</td>\n",
       "      <td>106</td>\n",
       "      <td>0</td>\n",
       "      <td>0</td>\n",
       "    </tr>\n",
       "    <tr>\n",
       "      <th>69</th>\n",
       "      <td>Jordan Hooper</td>\n",
       "      <td>CHI</td>\n",
       "      <td>F</td>\n",
       "      <td>188</td>\n",
       "      <td>84.0</td>\n",
       "      <td>23.766410</td>\n",
       "      <td>US</td>\n",
       "      <td>February 20, 1992</td>\n",
       "      <td>25</td>\n",
       "      <td>Nebraska</td>\n",
       "      <td>...</td>\n",
       "      <td>108</td>\n",
       "      <td>226</td>\n",
       "      <td>334</td>\n",
       "      <td>40</td>\n",
       "      <td>29</td>\n",
       "      <td>46</td>\n",
       "      <td>46</td>\n",
       "      <td>467</td>\n",
       "      <td>17</td>\n",
       "      <td>0</td>\n",
       "    </tr>\n",
       "    <tr>\n",
       "      <th>97</th>\n",
       "      <td>Moriah Jefferson</td>\n",
       "      <td>SAN</td>\n",
       "      <td>G</td>\n",
       "      <td>168</td>\n",
       "      <td>55.0</td>\n",
       "      <td>19.486961</td>\n",
       "      <td>US</td>\n",
       "      <td>August 3, 1994</td>\n",
       "      <td>23</td>\n",
       "      <td>Connecticut</td>\n",
       "      <td>...</td>\n",
       "      <td>6</td>\n",
       "      <td>31</td>\n",
       "      <td>37</td>\n",
       "      <td>92</td>\n",
       "      <td>33</td>\n",
       "      <td>2</td>\n",
       "      <td>43</td>\n",
       "      <td>191</td>\n",
       "      <td>0</td>\n",
       "      <td>0</td>\n",
       "    </tr>\n",
       "  </tbody>\n",
       "</table>\n",
       "<p>30 rows × 32 columns</p>\n",
       "</div>"
      ],
      "text/plain": [
       "                       Name Team  Pos  Height  Weight        BMI Birth_Place  \\\n",
       "78           Keisha Hampton  CHI    F     185    78.0  22.790358          US   \n",
       "116            Saniya Chong  DAL    G     173    64.0  21.383942          US   \n",
       "31           Carolyn Swords  SEA    C     198    95.0  24.232221          US   \n",
       "5           Alexis Peterson  SEA    G     170    63.0  21.799308          US   \n",
       "125         Stefanie Dolson  CHI    C     196    97.0  25.249896          US   \n",
       "45            Diana Taurasi  PHO    G     183    74.0  22.096808          US   \n",
       "14             Aneika Henry  ATL  F/C     193    87.0  23.356332          JM   \n",
       "44         Devereaux Peters  IND    F     188    79.0  22.351743          US   \n",
       "73   Karima Christmas-Kelly  DAL  G/F     183    82.0  24.485652          US   \n",
       "89            Lynetta Kizer  CON    C     193   104.0  27.920213          US   \n",
       "130            Sydney Wiese   LA    G     183    68.0  20.305175          US   \n",
       "53           Erlana Larkins  IND    F     185    93.0  27.173119          US   \n",
       "85        Layshia Clarendon  ATL    G     175    64.0  20.897959          US   \n",
       "93             Matee Ajavon  ATL    G     173    73.0  24.391059          US   \n",
       "29           Candice Dupree  IND    F     188    81.0  22.917610          US   \n",
       "16              Asia Taylor  WAS    F     185    76.0  22.205990          US   \n",
       "35      Clarissa dos Santos  SAN    C     185    89.0  26.004383          BR   \n",
       "90          Maimouna Diarra   LA    C     198    90.0  22.956841          SN   \n",
       "83           Krystal Thomas  WAS    C     196    88.0  22.907122          US   \n",
       "19          Breanna Stewart  SEA  F/C     193    77.0  20.671696          US   \n",
       "40           Damiris Dantas  ATL    C     191    89.0  24.396261          BR   \n",
       "92          Marissa Coleman  IND  G/F     185    73.0  21.329438          US   \n",
       "122      Shekinna Stricklen  CON  G/F     188    81.0  22.917610          US   \n",
       "98          Natalie Achonwa  IND    C     193    83.0  22.282477          CA   \n",
       "59              Ivory Latta  WAS    G     168    63.0  22.321429          US   \n",
       "42        Danielle Robinson  PHO    G     175    57.0  18.612245          US   \n",
       "33             Chelsea Gray   LA    G     180    77.0  23.765432          US   \n",
       "99            Natasha Cloud  WAS    G     183    73.0  21.798202          US   \n",
       "69            Jordan Hooper  CHI    F     188    84.0  23.766410          US   \n",
       "97         Moriah Jefferson  SAN    G     168    55.0  19.486961          US   \n",
       "\n",
       "              Birthdate  Age         College ...  OREB  DREB  REB  AST  STL  \\\n",
       "78    February 22, 1990   27          DePaul ...    36    59   95   24   20   \n",
       "116       June 27, 1994   23     Connecticut ...     9    19   28   33   21   \n",
       "31        July 19, 1989   28  Boston College ...    10    29   39    9    5   \n",
       "5         June 20, 1995   22        Syracuse ...     3    13   16   11    5   \n",
       "125      August 1, 1992   25     Connecticut ...    35   121  156   65   14   \n",
       "45     November 6, 1982   34     Connecticut ...    31    98  129   32   20   \n",
       "14    February 13, 1986   31         Florida ...     0     4    4    1    2   \n",
       "44      August 10, 1989   28      Notre Dame ...     8    69   77   76   16   \n",
       "73     November 9, 1989   27            Duke ...     4    10   14    6    1   \n",
       "89        April 4, 1990   27        Maryland ...    22    35   57    6   11   \n",
       "130       July 13, 1992   25    Oregon State ...     3    18   21    6    4   \n",
       "53     February 4, 1986   31  North Carolina ...     9    26   35   24   11   \n",
       "85     February 5, 1991   26     UC Berkeley ...    27    88  115  206   29   \n",
       "93         July 5, 1986   31       Syracruse ...     8    26   34   27   10   \n",
       "29    February 25, 1984   33          Temple ...    31   124  155   47   28   \n",
       "16      August 22, 1991   26      Louisville ...    16    21   37    9    5   \n",
       "35      October 3, 1988   28          Brazil ...     3     7   10    7    1   \n",
       "90     January 30, 1991   26          Sengal ...     3     4    7    1    1   \n",
       "83      October 6, 1989   27            Duke ...    97   172  269   30   15   \n",
       "19      August 27, 1994   22     Connecticut ...    43   206  249   78   29   \n",
       "40    November 17, 1992   24          Brazil ...    29    84  113   19   17   \n",
       "92        April 1, 1987   30        Maryland ...     7    53   60   25    8   \n",
       "122       July 30, 1990   27       Tennessee ...    15    71   86   30   36   \n",
       "98    November 22, 1992   24      Notre Dame ...    31    70  101   21   11   \n",
       "59   September 25, 1984   32  North Carolina ...     7    20   27   49   12   \n",
       "42      October 5, 1989   27        Oklahoma ...    13    73   86  106   33   \n",
       "33      August 10, 1992   25            Duke ...    19    80   99  132   29   \n",
       "99    February 22, 1992   25  Saint Joseph's ...     7    52   59   69   17   \n",
       "69    February 20, 1992   25        Nebraska ...   108   226  334   40   29   \n",
       "97       August 3, 1994   23     Connecticut ...     6    31   37   92   33   \n",
       "\n",
       "     BLK  TO  PTS  DD2  TD3  \n",
       "78     7  21  207    0    0  \n",
       "116    3  23   87    0    0  \n",
       "31     4  22   54    0    0  \n",
       "5      0  11   26    0    0  \n",
       "125   37  65  398    3    0  \n",
       "45    31  28  376    3    0  \n",
       "14     0   3    8    0    0  \n",
       "44     9  56  514    0    0  \n",
       "73     1  13   65    0    0  \n",
       "89     7  10  119    0    0  \n",
       "130    3   2   55    0    0  \n",
       "53     8  13  102    0    0  \n",
       "85     1  82  329    3    0  \n",
       "93     0  26   73    0    0  \n",
       "29    12  42  435    2    0  \n",
       "16     2  10   31    0    0  \n",
       "35     1   5   17    0    0  \n",
       "90     0   3    3    0    0  \n",
       "83    31  45  199    2    0  \n",
       "19    47  68  584    8    0  \n",
       "40    18  26  254    0    0  \n",
       "92     4  34  154    0    0  \n",
       "122    2  23  245    0    0  \n",
       "98    16  25  207    0    0  \n",
       "59     1  22  245    0    0  \n",
       "42     4  58  209    0    0  \n",
       "33     7  61  456    1    0  \n",
       "99     3  23  106    0    0  \n",
       "69    46  46  467   17    0  \n",
       "97     2  43  191    0    0  \n",
       "\n",
       "[30 rows x 32 columns]"
      ]
     },
     "execution_count": 8,
     "metadata": {},
     "output_type": "execute_result"
    }
   ],
   "source": [
    "sample"
   ]
  },
  {
   "cell_type": "code",
   "execution_count": 9,
   "metadata": {
    "collapsed": true
   },
   "outputs": [],
   "source": [
    "statistic = sample[\"Games Played\"].max()"
   ]
  },
  {
   "cell_type": "code",
   "execution_count": 10,
   "metadata": {
    "collapsed": false
   },
   "outputs": [
    {
     "data": {
      "text/plain": [
       "30"
      ]
     },
     "execution_count": 10,
     "metadata": {},
     "output_type": "execute_result"
    }
   ],
   "source": [
    "statistic"
   ]
  },
  {
   "cell_type": "code",
   "execution_count": 11,
   "metadata": {
    "collapsed": true
   },
   "outputs": [],
   "source": [
    "sampling_error = parameter - statistic"
   ]
  },
  {
   "cell_type": "code",
   "execution_count": 12,
   "metadata": {
    "collapsed": false
   },
   "outputs": [
    {
     "data": {
      "text/plain": [
       "2"
      ]
     },
     "execution_count": 12,
     "metadata": {},
     "output_type": "execute_result"
    }
   ],
   "source": [
    "sampling_error"
   ]
  },
  {
   "cell_type": "code",
   "execution_count": 13,
   "metadata": {
    "collapsed": false,
    "scrolled": true
   },
   "outputs": [
    {
     "data": {
      "text/plain": [
       "<matplotlib.lines.Line2D at 0x1121afba8>"
      ]
     },
     "execution_count": 13,
     "metadata": {},
     "output_type": "execute_result"
    },
    {
     "data": {
      "image/png": "[encoded data removed]",
      "text/plain": [
       "<Figure size 432x288 with 1 Axes>"
      ]
     },
     "metadata": {},
     "output_type": "display_data"
    }
   ],
   "source": [
    "population_mean = wnba['PTS'].mean()\n",
    "shooting_sample = wnba.sample(n=100, random_state = 1)\n",
    "sample_means = []\n",
    "\n",
    "\n",
    "#n = 0\n",
    "#while n < 100:\n",
    "#    for i in shooting_sample:\n",
    "#        sample = shooting_sample[\"PTS\"].sample(n=10, random_state = n)\n",
    "#        mean = sum(sample)/len(sample)\n",
    "#        sample_means.append(mean)\n",
    "#    n += 1\n",
    "\n",
    "#n = 0\n",
    "#for i in shooting_sample:\n",
    "#    if n < 100:\n",
    "#        sample = shooting_sample[\"PTS\"].sample(n=10, random_state = n)\n",
    "#        mean = sum(sample)/len(sample)\n",
    "#        sample_means.append(mean)    \n",
    "#    n += 1\n",
    "\n",
    "n = 0\n",
    "for i in range(100):\n",
    "    sample = shooting_sample[\"PTS\"].sample(n=10, random_state = i)\n",
    "    sample_means.append(sample.mean())\n",
    "    \n",
    "plt.scatter(range(1,101), sample_means)\n",
    "plt.axhline(population_mean)\n",
    "#sample_means"
   ]
  },
  {
   "cell_type": "markdown",
   "metadata": {},
   "source": [
    "Because sample means vary a lot around the population mean, there's a good chance we get a sample that is not representative of the population:"
   ]
  },
  {
   "cell_type": "code",
   "execution_count": 14,
   "metadata": {
    "collapsed": false
   },
   "outputs": [
    {
     "data": {
      "text/plain": [
       "100"
      ]
     },
     "execution_count": 14,
     "metadata": {},
     "output_type": "execute_result"
    }
   ],
   "source": [
    "len(sample_means)"
   ]
  },
  {
   "cell_type": "code",
   "execution_count": 15,
   "metadata": {
    "collapsed": false
   },
   "outputs": [
    {
     "data": {
      "text/plain": [
       "100"
      ]
     },
     "execution_count": 15,
     "metadata": {},
     "output_type": "execute_result"
    }
   ],
   "source": [
    "len(shooting_sample)"
   ]
  },
  {
   "cell_type": "code",
   "execution_count": 16,
   "metadata": {
    "collapsed": false,
    "scrolled": true
   },
   "outputs": [
    {
     "data": {
      "text/plain": [
       "29     435\n",
       "115      2\n",
       "17      19\n",
       "142    151\n",
       "35      17\n",
       "16      31\n",
       "15      58\n",
       "111    216\n",
       "130     55\n",
       "128    317\n",
       "Name: PTS, dtype: int64"
      ]
     },
     "execution_count": 16,
     "metadata": {},
     "output_type": "execute_result"
    }
   ],
   "source": [
    "sample"
   ]
  },
  {
   "cell_type": "code",
   "execution_count": 17,
   "metadata": {
    "collapsed": false
   },
   "outputs": [
    {
     "data": {
      "image/png": "[encoded data removed]",
      "text/plain": [
       "<Figure size 432x288 with 1 Axes>"
      ]
     },
     "metadata": {},
     "output_type": "display_data"
    }
   ],
   "source": [
    "y = sample_means\n",
    "x = np.arange(1, 101)\n",
    "plt.scatter(x,y)\n",
    "plt.axhline(sum(sample_means)/len(sample_means))\n",
    "plt.show()"
   ]
  },
  {
   "cell_type": "markdown",
   "metadata": {},
   "source": [
    "For the for loop, you can use for i in range(100): and then use wnba['PTS'].sample(10, random_state=i) inside the loop."
   ]
  },
  {
   "cell_type": "code",
   "execution_count": 18,
   "metadata": {
    "collapsed": true
   },
   "outputs": [],
   "source": [
    "sample_means_2 = []\n",
    "\n",
    "for i in range(100):\n",
    "    sample = shooting_sample[\"PTS\"].sample(n=10, random_state = i)\n",
    "    mean = sum(sample)/len(sample)\n",
    "    sample_means_2.append(mean)"
   ]
  },
  {
   "cell_type": "code",
   "execution_count": 19,
   "metadata": {
    "collapsed": false
   },
   "outputs": [
    {
     "data": {
      "text/plain": [
       "100"
      ]
     },
     "execution_count": 19,
     "metadata": {},
     "output_type": "execute_result"
    }
   ],
   "source": [
    "len(sample_means_2)"
   ]
  },
  {
   "cell_type": "code",
   "execution_count": 20,
   "metadata": {
    "collapsed": false
   },
   "outputs": [
    {
     "data": {
      "image/png": "[encoded data removed]",
      "text/plain": [
       "<Figure size 432x288 with 1 Axes>"
      ]
     },
     "metadata": {},
     "output_type": "display_data"
    }
   ],
   "source": [
    "y = sample_means_2\n",
    "x = np.arange(1, 101)\n",
    "plt.scatter(x,y)\n",
    "plt.axhline(sum(sample_means_2)/len(sample_means_2))\n",
    "plt.show()"
   ]
  },
  {
   "cell_type": "code",
   "execution_count": 21,
   "metadata": {
    "collapsed": false
   },
   "outputs": [
    {
     "data": {
      "text/plain": [
       "<matplotlib.lines.Line2D at 0x11d961cc0>"
      ]
     },
     "execution_count": 21,
     "metadata": {},
     "output_type": "execute_result"
    },
    {
     "data": {
      "image/png": "[encoded data removed]",
      "text/plain": [
       "<Figure size 432x288 with 1 Axes>"
      ]
     },
     "metadata": {},
     "output_type": "display_data"
    }
   ],
   "source": [
    "sample_means = []\n",
    "population_mean = wnba['PTS'].mean()\n",
    "\n",
    "for i in range(100):\n",
    "    sample = wnba['PTS'].sample(10, random_state=i)\n",
    "    sample_means.append(sample.mean())\n",
    "\n",
    "plt.scatter(range(1,101), sample_means)\n",
    "plt.axhline(population_mean)"
   ]
  },
  {
   "cell_type": "code",
   "execution_count": 22,
   "metadata": {
    "collapsed": false
   },
   "outputs": [
    {
     "data": {
      "text/plain": [
       "100"
      ]
     },
     "execution_count": 22,
     "metadata": {},
     "output_type": "execute_result"
    }
   ],
   "source": [
    "len(sample_means)"
   ]
  },
  {
   "cell_type": "code",
   "execution_count": 23,
   "metadata": {
    "collapsed": false
   },
   "outputs": [
    {
     "data": {
      "text/plain": [
       "array(['F', 'G/F', 'G', 'C', 'F/C'], dtype=object)"
      ]
     },
     "execution_count": 23,
     "metadata": {},
     "output_type": "execute_result"
    }
   ],
   "source": [
    "wnba['Pos'].unique()\n",
    "# finding the unique types of Posisitions"
   ]
  },
  {
   "cell_type": "code",
   "execution_count": 24,
   "metadata": {
    "collapsed": false
   },
   "outputs": [],
   "source": [
    "Forward = wnba[\"Pos\"] == \"F\""
   ]
  },
  {
   "cell_type": "code",
   "execution_count": 25,
   "metadata": {
    "collapsed": false
   },
   "outputs": [
    {
     "data": {
      "text/plain": [
       "(143,)"
      ]
     },
     "execution_count": 25,
     "metadata": {},
     "output_type": "execute_result"
    }
   ],
   "source": [
    "Forward.shape"
   ]
  },
  {
   "cell_type": "code",
   "execution_count": 26,
   "metadata": {
    "collapsed": false
   },
   "outputs": [
    {
     "data": {
      "text/html": [
       "<div>\n",
       "<style scoped>\n",
       "    .dataframe tbody tr th:only-of-type {\n",
       "        vertical-align: middle;\n",
       "    }\n",
       "\n",
       "    .dataframe tbody tr th {\n",
       "        vertical-align: top;\n",
       "    }\n",
       "\n",
       "    .dataframe thead th {\n",
       "        text-align: right;\n",
       "    }\n",
       "</style>\n",
       "<table border=\"1\" class=\"dataframe\">\n",
       "  <thead>\n",
       "    <tr style=\"text-align: right;\">\n",
       "      <th></th>\n",
       "      <th>Name</th>\n",
       "      <th>Team</th>\n",
       "      <th>Pos</th>\n",
       "      <th>Height</th>\n",
       "      <th>Weight</th>\n",
       "      <th>BMI</th>\n",
       "      <th>Birth_Place</th>\n",
       "      <th>Birthdate</th>\n",
       "      <th>Age</th>\n",
       "      <th>College</th>\n",
       "      <th>...</th>\n",
       "      <th>OREB</th>\n",
       "      <th>DREB</th>\n",
       "      <th>REB</th>\n",
       "      <th>AST</th>\n",
       "      <th>STL</th>\n",
       "      <th>BLK</th>\n",
       "      <th>TO</th>\n",
       "      <th>PTS</th>\n",
       "      <th>DD2</th>\n",
       "      <th>TD3</th>\n",
       "    </tr>\n",
       "  </thead>\n",
       "  <tbody>\n",
       "    <tr>\n",
       "      <th>0</th>\n",
       "      <td>Aerial Powers</td>\n",
       "      <td>DAL</td>\n",
       "      <td>F</td>\n",
       "      <td>183</td>\n",
       "      <td>71.0</td>\n",
       "      <td>21.200991</td>\n",
       "      <td>US</td>\n",
       "      <td>January 17, 1994</td>\n",
       "      <td>23</td>\n",
       "      <td>Michigan State</td>\n",
       "      <td>...</td>\n",
       "      <td>6</td>\n",
       "      <td>22</td>\n",
       "      <td>28</td>\n",
       "      <td>12</td>\n",
       "      <td>3</td>\n",
       "      <td>6</td>\n",
       "      <td>12</td>\n",
       "      <td>93</td>\n",
       "      <td>0</td>\n",
       "      <td>0</td>\n",
       "    </tr>\n",
       "    <tr>\n",
       "      <th>10</th>\n",
       "      <td>Alysha Clark</td>\n",
       "      <td>SEA</td>\n",
       "      <td>F</td>\n",
       "      <td>180</td>\n",
       "      <td>76.0</td>\n",
       "      <td>23.456790</td>\n",
       "      <td>US</td>\n",
       "      <td>July 7, 1987</td>\n",
       "      <td>30</td>\n",
       "      <td>Middle Tennessee</td>\n",
       "      <td>...</td>\n",
       "      <td>29</td>\n",
       "      <td>97</td>\n",
       "      <td>126</td>\n",
       "      <td>50</td>\n",
       "      <td>22</td>\n",
       "      <td>4</td>\n",
       "      <td>32</td>\n",
       "      <td>244</td>\n",
       "      <td>0</td>\n",
       "      <td>0</td>\n",
       "    </tr>\n",
       "    <tr>\n",
       "      <th>11</th>\n",
       "      <td>Alyssa Thomas</td>\n",
       "      <td>CON</td>\n",
       "      <td>F</td>\n",
       "      <td>188</td>\n",
       "      <td>84.0</td>\n",
       "      <td>23.766410</td>\n",
       "      <td>US</td>\n",
       "      <td>December 4, 1992</td>\n",
       "      <td>24</td>\n",
       "      <td>Maryland</td>\n",
       "      <td>...</td>\n",
       "      <td>34</td>\n",
       "      <td>158</td>\n",
       "      <td>192</td>\n",
       "      <td>136</td>\n",
       "      <td>48</td>\n",
       "      <td>11</td>\n",
       "      <td>87</td>\n",
       "      <td>399</td>\n",
       "      <td>4</td>\n",
       "      <td>0</td>\n",
       "    </tr>\n",
       "    <tr>\n",
       "      <th>13</th>\n",
       "      <td>Amber Harris</td>\n",
       "      <td>CHI</td>\n",
       "      <td>F</td>\n",
       "      <td>196</td>\n",
       "      <td>88.0</td>\n",
       "      <td>22.907122</td>\n",
       "      <td>US</td>\n",
       "      <td>January 16, 1988</td>\n",
       "      <td>29</td>\n",
       "      <td>Xavier</td>\n",
       "      <td>...</td>\n",
       "      <td>12</td>\n",
       "      <td>28</td>\n",
       "      <td>40</td>\n",
       "      <td>5</td>\n",
       "      <td>3</td>\n",
       "      <td>9</td>\n",
       "      <td>6</td>\n",
       "      <td>41</td>\n",
       "      <td>0</td>\n",
       "      <td>0</td>\n",
       "    </tr>\n",
       "    <tr>\n",
       "      <th>16</th>\n",
       "      <td>Asia Taylor</td>\n",
       "      <td>WAS</td>\n",
       "      <td>F</td>\n",
       "      <td>185</td>\n",
       "      <td>76.0</td>\n",
       "      <td>22.205990</td>\n",
       "      <td>US</td>\n",
       "      <td>August 22, 1991</td>\n",
       "      <td>26</td>\n",
       "      <td>Louisville</td>\n",
       "      <td>...</td>\n",
       "      <td>16</td>\n",
       "      <td>21</td>\n",
       "      <td>37</td>\n",
       "      <td>9</td>\n",
       "      <td>5</td>\n",
       "      <td>2</td>\n",
       "      <td>10</td>\n",
       "      <td>31</td>\n",
       "      <td>0</td>\n",
       "      <td>0</td>\n",
       "    </tr>\n",
       "  </tbody>\n",
       "</table>\n",
       "<p>5 rows × 32 columns</p>\n",
       "</div>"
      ],
      "text/plain": [
       "             Name Team Pos  Height  Weight        BMI Birth_Place  \\\n",
       "0   Aerial Powers  DAL   F     183    71.0  21.200991          US   \n",
       "10   Alysha Clark  SEA   F     180    76.0  23.456790          US   \n",
       "11  Alyssa Thomas  CON   F     188    84.0  23.766410          US   \n",
       "13   Amber Harris  CHI   F     196    88.0  22.907122          US   \n",
       "16    Asia Taylor  WAS   F     185    76.0  22.205990          US   \n",
       "\n",
       "           Birthdate  Age           College ...  OREB  DREB  REB  AST  STL  \\\n",
       "0   January 17, 1994   23    Michigan State ...     6    22   28   12    3   \n",
       "10      July 7, 1987   30  Middle Tennessee ...    29    97  126   50   22   \n",
       "11  December 4, 1992   24          Maryland ...    34   158  192  136   48   \n",
       "13  January 16, 1988   29            Xavier ...    12    28   40    5    3   \n",
       "16   August 22, 1991   26        Louisville ...    16    21   37    9    5   \n",
       "\n",
       "    BLK  TO  PTS  DD2  TD3  \n",
       "0     6  12   93    0    0  \n",
       "10    4  32  244    0    0  \n",
       "11   11  87  399    4    0  \n",
       "13    9   6   41    0    0  \n",
       "16    2  10   31    0    0  \n",
       "\n",
       "[5 rows x 32 columns]"
      ]
     },
     "execution_count": 26,
     "metadata": {},
     "output_type": "execute_result"
    }
   ],
   "source": [
    "wnba[Forward].head()"
   ]
  },
  {
   "cell_type": "code",
   "execution_count": 27,
   "metadata": {
    "collapsed": false,
    "scrolled": true
   },
   "outputs": [
    {
     "data": {
      "text/plain": [
       "0       93\n",
       "1      217\n",
       "2      218\n",
       "3      188\n",
       "4       50\n",
       "5       26\n",
       "6       24\n",
       "7      442\n",
       "8      395\n",
       "9       36\n",
       "10     244\n",
       "11     399\n",
       "12      51\n",
       "13      41\n",
       "14       8\n",
       "15      58\n",
       "16      31\n",
       "17      19\n",
       "18       7\n",
       "19     584\n",
       "20     217\n",
       "21     235\n",
       "22     238\n",
       "23      44\n",
       "24      26\n",
       "25     461\n",
       "26     397\n",
       "27     228\n",
       "28     494\n",
       "29     435\n",
       "      ... \n",
       "113    139\n",
       "114    156\n",
       "115      2\n",
       "116     87\n",
       "117    298\n",
       "118     81\n",
       "119     96\n",
       "120    346\n",
       "121     66\n",
       "122    245\n",
       "123    158\n",
       "124    545\n",
       "125    398\n",
       "126    138\n",
       "127    273\n",
       "128    317\n",
       "129     72\n",
       "130     55\n",
       "131    572\n",
       "132    277\n",
       "133    240\n",
       "134     17\n",
       "135    217\n",
       "136    210\n",
       "137    225\n",
       "138    467\n",
       "139     28\n",
       "140    277\n",
       "141    582\n",
       "142    151\n",
       "Name: PTS, Length: 143, dtype: int64"
      ]
     },
     "execution_count": 27,
     "metadata": {},
     "output_type": "execute_result"
    }
   ],
   "source": [
    "wnba[[\"PTS\"][\"Pos\" == \"F\"]]"
   ]
  },
  {
   "cell_type": "code",
   "execution_count": 28,
   "metadata": {
    "collapsed": false
   },
   "outputs": [
    {
     "name": "stdout",
     "output_type": "stream",
     "text": [
      "{'forward': 8.702175158545568, 'guard': 7.092926195632343, 'center': 9.833761394334251, 'guard_forward': 6.817264935760487, 'forward_center': 9.059118773946361}\n"
     ]
    }
   ],
   "source": [
    "wnba[\"PP_Game\"] = wnba[\"PTS\"]/wnba[\"Games Played\"]\n",
    "sample_means_by_pos = {}\n",
    "\n",
    "for i in range(100):\n",
    "    forward = wnba[wnba.Pos == \"F\"][\"PP_Game\"].sample(10, random_state=0)\n",
    "    guard = wnba[wnba.Pos == \"G\"][\"PP_Game\"].sample(10, random_state=0)\n",
    "    center = wnba[wnba.Pos == \"C\"][\"PP_Game\"].sample(10,random_state = 0)\n",
    "    guard_forward = wnba[wnba.Pos == \"G/F\"][\"PP_Game\"].sample(10,random_state = 0)\n",
    "    forward_center = wnba[wnba.Pos == \"F/C\"][\"PP_Game\"].sample(10,random_state = 0)\n",
    "    \n",
    "    sample_means_by_pos[\"forward\"] = forward.mean()\n",
    "    sample_means_by_pos[\"guard\"] = guard.mean()\n",
    "    sample_means_by_pos[\"center\"] = center.mean()\n",
    "    sample_means_by_pos[\"guard_forward\"] = guard_forward.mean()\n",
    "    sample_means_by_pos[\"forward_center\"] = forward_center.mean()\n",
    "\n",
    "print(sample_means_by_pos) "
   ]
  },
  {
   "cell_type": "code",
   "execution_count": 29,
   "metadata": {
    "collapsed": false
   },
   "outputs": [],
   "source": [
    "key_max = max(sample_means_by_pos.keys(), key=(lambda k: sample_means_by_pos[k]))"
   ]
  },
  {
   "cell_type": "code",
   "execution_count": 30,
   "metadata": {
    "collapsed": false
   },
   "outputs": [
    {
     "data": {
      "text/plain": [
       "'center'"
      ]
     },
     "execution_count": 30,
     "metadata": {},
     "output_type": "execute_result"
    }
   ],
   "source": [
    "key_max"
   ]
  },
  {
   "cell_type": "code",
   "execution_count": 31,
   "metadata": {
    "collapsed": true
   },
   "outputs": [],
   "source": [
    "position_most_points = max(sample_means_by_pos, key=sample_means_by_pos.get)"
   ]
  },
  {
   "cell_type": "code",
   "execution_count": 32,
   "metadata": {
    "collapsed": false
   },
   "outputs": [
    {
     "data": {
      "text/plain": [
       "'center'"
      ]
     },
     "execution_count": 32,
     "metadata": {},
     "output_type": "execute_result"
    }
   ],
   "source": [
    "position_most_points"
   ]
  },
  {
   "cell_type": "code",
   "execution_count": 33,
   "metadata": {
    "collapsed": true
   },
   "outputs": [],
   "source": [
    "#dataquest solution (same answer)\n",
    "\n",
    "wnba['Pts_per_game'] = wnba['PTS'] / wnba['Games Played']\n",
    "\n",
    "# Stratifying the data in five strata\n",
    "stratum_G = wnba[wnba.Pos == 'G']\n",
    "stratum_F = wnba[wnba.Pos == 'F']\n",
    "stratum_C = wnba[wnba.Pos == 'C']\n",
    "stratum_GF = wnba[wnba.Pos == 'G/F']\n",
    "stratum_FC = wnba[wnba.Pos == 'F/C']\n",
    "\n",
    "points_per_position = {}\n",
    "for stratum, position in [(stratum_G, 'G'), (stratum_F, 'F'), (stratum_C, 'C'),\n",
    "                (stratum_GF, 'G/F'), (stratum_FC, 'F/C')]:\n",
    "    \n",
    "    sample = stratum['Pts_per_game'].sample(10, random_state = 0) # simple random sapling on each stratum\n",
    "    points_per_position[position] = sample.mean()\n",
    "    \n",
    "position_most_points = max(points_per_position, key = points_per_position.get)"
   ]
  },
  {
   "cell_type": "code",
   "execution_count": 34,
   "metadata": {
    "collapsed": false
   },
   "outputs": [
    {
     "data": {
      "text/plain": [
       "'C'"
      ]
     },
     "execution_count": 34,
     "metadata": {},
     "output_type": "execute_result"
    }
   ],
   "source": [
    "position_most_points"
   ]
  },
  {
   "cell_type": "code",
   "execution_count": 35,
   "metadata": {
    "collapsed": false
   },
   "outputs": [
    {
     "data": {
      "text/plain": [
       "(22.0, 32.0]     72.727273\n",
       "(12.0, 22.0]     18.181818\n",
       "(1.969, 12.0]     9.090909\n",
       "Name: Games Played, dtype: float64"
      ]
     },
     "execution_count": 35,
     "metadata": {},
     "output_type": "execute_result"
    }
   ],
   "source": [
    "#The problem is that the number of total points is influenced by the number of games played, which ranges from 2 to 32:\n",
    "wnba['Games Played'].value_counts(bins = 3, normalize = True) * 100"
   ]
  },
  {
   "cell_type": "markdown",
   "metadata": {},
   "source": [
    "Stratify the data set by the number of games played in the following way: the first strata should be composed of players that played 12 games or less; the second of players that played more than 12 games, but up to 22 (included); and the third of players that played more than 22 games (22 not included).\n",
    "\n",
    "Here we perform stratified sampling 100 times. For each of the 100 iterations of a for loop:"
   ]
  },
  {
   "cell_type": "code",
   "execution_count": 108,
   "metadata": {
    "collapsed": false
   },
   "outputs": [
    {
     "data": {
      "text/plain": [
       "<matplotlib.lines.Line2D at 0x114e23ac8>"
      ]
     },
     "execution_count": 108,
     "metadata": {},
     "output_type": "execute_result"
    },
    {
     "data": {
      "image/png": "[encoded data removed]",
      "text/plain": [
       "<Figure size 432x288 with 1 Axes>"
      ]
     },
     "metadata": {},
     "output_type": "display_data"
    }
   ],
   "source": [
    "#create three stratums \n",
    "\n",
    "stratum_greater_22 = wnba[wnba[\"Games Played\"] > 22]\n",
    "stratum_12_23 = wnba[wnba[\"Games Played\"].between(12,23,inclusive=False)]\n",
    "stratum_under_13 = wnba[wnba[\"Games Played\"] < 13]\n",
    "\n",
    "sample_means = []\n",
    "\n",
    "for i in range(100):\n",
    "    sample_under_13 = stratum_under_13[\"PTS\"].sample(1, random_state=i)\n",
    "    sample_12_23 = stratum_12_23[\"PTS\"].sample(2, random_state=i)\n",
    "    sample_greater_22 = stratum_greater_22[\"PTS\"].sample(7, random_state=i)\n",
    "    \n",
    "    sample_frame = pd.concat([sample_under_13, sample_12_23, sample_greater_22],axis=0)    \n",
    "    sample_means.append(sample_frame.mean())\n",
    "\n",
    "plt.scatter(range(1,101), sample_means)\n",
    "plt.axhline(wnba['PTS'].mean())"
   ]
  },
  {
   "cell_type": "code",
   "execution_count": 105,
   "metadata": {
    "collapsed": false
   },
   "outputs": [
    {
     "data": {
      "text/plain": [
       "0       93\n",
       "119     96\n",
       "54      13\n",
       "88     177\n",
       "97     191\n",
       "76     411\n",
       "60     200\n",
       "27     228\n",
       "58     364\n",
       "107     96\n",
       "10     244\n",
       "135    217\n",
       "Name: PTS, dtype: int64"
      ]
     },
     "execution_count": 105,
     "metadata": {},
     "output_type": "execute_result"
    }
   ],
   "source": [
    "sample_frame"
   ]
  },
  {
   "cell_type": "code",
   "execution_count": 66,
   "metadata": {
    "collapsed": false
   },
   "outputs": [
    {
     "data": {
      "text/plain": [
       "194.16666666666666"
      ]
     },
     "execution_count": 66,
     "metadata": {},
     "output_type": "execute_result"
    }
   ],
   "source": [
    "sample_frame[\"PTS\"].mean()"
   ]
  },
  {
   "cell_type": "code",
   "execution_count": 67,
   "metadata": {
    "collapsed": false
   },
   "outputs": [
    {
     "data": {
      "text/plain": [
       "7.896832073243363"
      ]
     },
     "execution_count": 67,
     "metadata": {},
     "output_type": "execute_result"
    }
   ],
   "source": [
    "sample_frame[\"Pts_per_game\"].mean()"
   ]
  },
  {
   "cell_type": "code",
   "execution_count": 68,
   "metadata": {
    "collapsed": false
   },
   "outputs": [
    {
     "data": {
      "text/plain": [
       "(23.333, 31.0]      58.333333\n",
       "(15.667, 23.333]    25.000000\n",
       "(7.976, 15.667]     16.666667\n",
       "Name: Games Played, dtype: float64"
      ]
     },
     "execution_count": 68,
     "metadata": {},
     "output_type": "execute_result"
    }
   ],
   "source": [
    "sample_frame[\"Games Played\"].value_counts(bins=3, normalize=True) * 100"
   ]
  },
  {
   "cell_type": "code",
   "execution_count": 44,
   "metadata": {
    "collapsed": false
   },
   "outputs": [
    {
     "data": {
      "text/plain": [
       "(23.333, 31.0]      7\n",
       "(15.667, 23.333]    3\n",
       "(7.976, 15.667]     2\n",
       "Name: Games Played, dtype: int64"
      ]
     },
     "execution_count": 44,
     "metadata": {},
     "output_type": "execute_result"
    }
   ],
   "source": [
    "sample_frame[\"Games Played\"].value_counts(bins=3)"
   ]
  },
  {
   "cell_type": "code",
   "execution_count": 45,
   "metadata": {
    "collapsed": false
   },
   "outputs": [
    {
     "data": {
      "text/plain": [
       "0       8\n",
       "119    22\n",
       "54     15\n",
       "88     22\n",
       "97     21\n",
       "76     27\n",
       "60     28\n",
       "27     30\n",
       "58     31\n",
       "107    26\n",
       "10     30\n",
       "135    30\n",
       "Name: Games Played, dtype: int64"
      ]
     },
     "execution_count": 45,
     "metadata": {},
     "output_type": "execute_result"
    }
   ],
   "source": [
    "sample_frame[\"Games Played\"]"
   ]
  },
  {
   "cell_type": "code",
   "execution_count": 97,
   "metadata": {
    "collapsed": false
   },
   "outputs": [
    {
     "data": {
      "text/plain": [
       "<matplotlib.lines.Line2D at 0x11d8d65c0>"
      ]
     },
     "execution_count": 97,
     "metadata": {},
     "output_type": "execute_result"
    },
    {
     "data": {
      "image/png": "[encoded data removed]",
      "text/plain": [
       "<Figure size 432x288 with 1 Axes>"
      ]
     },
     "metadata": {},
     "output_type": "display_data"
    }
   ],
   "source": [
    "under_12 = wnba[wnba['Games Played'] <= 12]\n",
    "btw_13_22 = wnba[(wnba['Games Played'] > 12) & (wnba['Games Played'] <= 22)]\n",
    "over_23 = wnba[wnba['Games Played'] > 22]\n",
    "\n",
    "proportional_sampling_means = []\n",
    "\n",
    "for i in range(100):\n",
    "    sample_under_12 = under_12['PTS'].sample(1, random_state = i)\n",
    "    sample_btw_13_22 = btw_13_22['PTS'].sample(2, random_state = i)\n",
    "    sample_over_23 = over_23['PTS'].sample(7, random_state = i)\n",
    "    \n",
    "    final_sample = pd.concat([sample_under_12, sample_btw_13_22, sample_over_23])\n",
    "    proportional_sampling_means.append(final_sample.mean())\n",
    "    \n",
    "plt.scatter(range(1,101), proportional_sampling_means)\n",
    "plt.axhline(wnba['PTS'].mean())"
   ]
  },
  {
   "cell_type": "code",
   "execution_count": 98,
   "metadata": {
    "collapsed": false
   },
   "outputs": [
    {
     "data": {
      "text/plain": [
       "10"
      ]
     },
     "execution_count": 98,
     "metadata": {},
     "output_type": "execute_result"
    }
   ],
   "source": [
    "len(final_sample)"
   ]
  },
  {
   "cell_type": "code",
   "execution_count": 110,
   "metadata": {
    "collapsed": false,
    "scrolled": true
   },
   "outputs": [
    {
     "data": {
      "text/plain": [
       "Index(['Name', 'Team', 'Pos', 'Height', 'Weight', 'BMI', 'Birth_Place',\n",
       "       'Birthdate', 'Age', 'College', 'Experience', 'Games Played', 'MIN',\n",
       "       'FGM', 'FGA', 'FG%', '15:00', '3PA', '3P%', 'FTM', 'FTA', 'FT%', 'OREB',\n",
       "       'DREB', 'REB', 'AST', 'STL', 'BLK', 'TO', 'PTS', 'DD2', 'TD3',\n",
       "       'PP_Game', 'Pts_per_game'],\n",
       "      dtype='object')"
      ]
     },
     "execution_count": 110,
     "metadata": {},
     "output_type": "execute_result"
    }
   ],
   "source": [
    "wnba.columns"
   ]
  },
  {
   "cell_type": "code",
   "execution_count": 112,
   "metadata": {
    "collapsed": false
   },
   "outputs": [],
   "source": [
    "team_clusters = pd.Series(wnba[\"Team\"].unique()).sample(4,random_state=0)"
   ]
  },
  {
   "cell_type": "code",
   "execution_count": 122,
   "metadata": {
    "collapsed": false
   },
   "outputs": [],
   "source": [
    "#attempt 1\n",
    "\n",
    "height_means = []\n",
    "age_means = []\n",
    "bmi_means = []\n",
    "points_means = []\n",
    "\n",
    "for i in team_clusters:\n",
    "    teams = pd.concat([wnba[wnba[\"Team\"] == i]])\n",
    "    height_means.append(teams[\"Height\"].mean())\n",
    "    age_means.append(teams[\"Age\"].mean())\n",
    "    bmi_means.append(teams[\"BMI\"].mean())\n",
    "    points_means.append(teams[\"PTS\"].mean())"
   ]
  },
  {
   "cell_type": "code",
   "execution_count": 123,
   "metadata": {
    "collapsed": true
   },
   "outputs": [],
   "source": [
    "sampling_error_height = wnba[\"Height\"].mean() - np.mean(height_means)\n",
    "sampling_error_age = wnba[\"Age\"].mean() - np.mean(age_means)\n",
    "sampling_error_BMI = wnba[\"BMI\"].mean() - np.mean(bmi_means)\n",
    "sampling_error_points = wnba[\"PTS\"].mean() - np.mean(points_means)"
   ]
  },
  {
   "cell_type": "code",
   "execution_count": 126,
   "metadata": {
    "collapsed": false
   },
   "outputs": [
    {
     "name": "stdout",
     "output_type": "stream",
     "text": [
      "0.21613246524646712 -1.4117132867132867\n"
     ]
    }
   ],
   "source": [
    "print(sampling_error_BMI,sampling_error_age)"
   ]
  },
  {
   "cell_type": "code",
   "execution_count": 127,
   "metadata": {
    "collapsed": false
   },
   "outputs": [
    {
     "data": {
      "text/plain": [
       "[28.5, 28.0, 30.545454545454547, 26.90909090909091]"
      ]
     },
     "execution_count": 127,
     "metadata": {},
     "output_type": "execute_result"
    }
   ],
   "source": [
    "age_means"
   ]
  },
  {
   "cell_type": "code",
   "execution_count": 120,
   "metadata": {
    "collapsed": false
   },
   "outputs": [
    {
     "data": {
      "text/plain": [
       "28.488636363636363"
      ]
     },
     "execution_count": 120,
     "metadata": {},
     "output_type": "execute_result"
    }
   ],
   "source": [
    "np.mean(age_means)"
   ]
  },
  {
   "cell_type": "code",
   "execution_count": 121,
   "metadata": {
    "collapsed": false
   },
   "outputs": [
    {
     "data": {
      "text/plain": [
       "27.076923076923077"
      ]
     },
     "execution_count": 121,
     "metadata": {},
     "output_type": "execute_result"
    }
   ],
   "source": [
    "wnba[\"Age\"].mean()"
   ]
  },
  {
   "cell_type": "code",
   "execution_count": 141,
   "metadata": {
    "collapsed": false
   },
   "outputs": [],
   "source": [
    "teams_data = pd.DataFrame()\n",
    "\n",
    "for i in team_clusters:\n",
    "    teams = [wnba[wnba[\"Team\"] == i]]\n",
    "    teams_data = teams_data.append(teams)"
   ]
  },
  {
   "cell_type": "code",
   "execution_count": 132,
   "metadata": {
    "collapsed": false
   },
   "outputs": [
    {
     "data": {
      "text/plain": [
       "6     PHO\n",
       "11    IND\n",
       "4     MIN\n",
       "10    ATL\n",
       "dtype: object"
      ]
     },
     "execution_count": 132,
     "metadata": {},
     "output_type": "execute_result"
    }
   ],
   "source": [
    "team_clusters"
   ]
  },
  {
   "cell_type": "code",
   "execution_count": 133,
   "metadata": {
    "collapsed": false
   },
   "outputs": [
    {
     "name": "stdout",
     "output_type": "stream",
     "text": [
      "PHO\n",
      "IND\n",
      "MIN\n",
      "ATL\n"
     ]
    }
   ],
   "source": [
    "for i in team_clusters:\n",
    "    print(i)"
   ]
  },
  {
   "cell_type": "code",
   "execution_count": 148,
   "metadata": {
    "collapsed": true
   },
   "outputs": [],
   "source": [
    "sampling_error_height = wnba[\"Height\"].mean() - teams_data[\"Height\"].mean()\n",
    "sampling_error_age = wnba[\"Age\"].mean() - teams_data[\"Age\"].mean()\n",
    "sampling_error_BMI = wnba[\"BMI\"].mean() - teams_data[\"BMI\"].mean()\n",
    "sampling_error_points = wnba[\"PTS\"].mean() - teams_data[\"PTS\"].mean()"
   ]
  },
  {
   "cell_type": "code",
   "execution_count": 149,
   "metadata": {
    "collapsed": false
   },
   "outputs": [
    {
     "data": {
      "text/plain": [
       "(0.23095444165950596,\n",
       " -1.401337792642142,\n",
       " -0.06400121617511445,\n",
       " -27.79674673152934)"
      ]
     },
     "execution_count": 149,
     "metadata": {},
     "output_type": "execute_result"
    }
   ],
   "source": [
    "sampling_error_BMI, sampling_error_age, sampling_error_height, sampling_error_points"
   ]
  },
  {
   "cell_type": "code",
   "execution_count": 150,
   "metadata": {
    "collapsed": false
   },
   "outputs": [
    {
     "data": {
      "text/plain": [
       "Index(['Name', 'Team', 'Pos', 'Height', 'Weight', 'BMI', 'Birth_Place',\n",
       "       'Birthdate', 'Age', 'College', 'Experience', 'Games Played', 'MIN',\n",
       "       'FGM', 'FGA', 'FG%', '15:00', '3PA', '3P%', 'FTM', 'FTA', 'FT%', 'OREB',\n",
       "       'DREB', 'REB', 'AST', 'STL', 'BLK', 'TO', 'PTS', 'DD2', 'TD3',\n",
       "       'PP_Game', 'Pts_per_game'],\n",
       "      dtype='object')"
      ]
     },
     "execution_count": 150,
     "metadata": {},
     "output_type": "execute_result"
    }
   ],
   "source": [
    "wnba.columns"
   ]
  },
  {
   "cell_type": "code",
   "execution_count": null,
   "metadata": {
    "collapsed": true
   },
   "outputs": [],
   "source": []
  }
 ],
 "metadata": {
  "kernelspec": {
   "display_name": "Python 3",
   "language": "python",
   "name": "python3"
  },
  "language_info": {
   "codemirror_mode": {
    "name": "ipython",
    "version": 3
   },
   "file_extension": ".py",
   "mimetype": "text/x-python",
   "name": "python",
   "nbconvert_exporter": "python",
   "pygments_lexer": "ipython3",
   "version": "3.6.5"
  }
 },
 "nbformat": 4,
 "nbformat_minor": 0
}
