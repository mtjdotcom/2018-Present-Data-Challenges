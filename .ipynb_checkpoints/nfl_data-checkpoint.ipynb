{
 "cells": [
  {
   "cell_type": "code",
   "execution_count": 1,
   "metadata": {},
   "outputs": [],
   "source": [
    "import csv\n",
    "import pandas as pd"
   ]
  },
  {
   "cell_type": "code",
   "execution_count": 2,
   "metadata": {},
   "outputs": [],
   "source": [
    "nfl_open = open(\"data/nfl.csv\", \"r\")\n",
    "nfl_read = csv.reader(nfl_open)"
   ]
  },
  {
   "cell_type": "code",
   "execution_count": 4,
   "metadata": {
    "scrolled": true
   },
   "outputs": [
    {
     "data": {
      "text/html": [
       "<div>\n",
       "<style scoped>\n",
       "    .dataframe tbody tr th:only-of-type {\n",
       "        vertical-align: middle;\n",
       "    }\n",
       "\n",
       "    .dataframe tbody tr th {\n",
       "        vertical-align: top;\n",
       "    }\n",
       "\n",
       "    .dataframe thead th {\n",
       "        text-align: right;\n",
       "    }\n",
       "</style>\n",
       "<table border=\"1\" class=\"dataframe\">\n",
       "  <thead>\n",
       "    <tr style=\"text-align: right;\">\n",
       "      <th></th>\n",
       "      <th>season</th>\n",
       "      <th>week</th>\n",
       "      <th>kickoff</th>\n",
       "      <th>home_team</th>\n",
       "      <th>home_score</th>\n",
       "      <th>visitors_score</th>\n",
       "      <th>visiting_team</th>\n",
       "    </tr>\n",
       "  </thead>\n",
       "  <tbody>\n",
       "    <tr>\n",
       "      <th>0</th>\n",
       "      <td>2014</td>\n",
       "      <td>1</td>\n",
       "      <td>2014-09-04T19:30:00-05:00</td>\n",
       "      <td>Seahawks</td>\n",
       "      <td>36</td>\n",
       "      <td>16</td>\n",
       "      <td>Packers</td>\n",
       "    </tr>\n",
       "    <tr>\n",
       "      <th>1</th>\n",
       "      <td>2014</td>\n",
       "      <td>1</td>\n",
       "      <td>2014-09-07T12:00:00-05:00</td>\n",
       "      <td>Bears</td>\n",
       "      <td>20</td>\n",
       "      <td>23</td>\n",
       "      <td>Bills</td>\n",
       "    </tr>\n",
       "    <tr>\n",
       "      <th>2</th>\n",
       "      <td>2014</td>\n",
       "      <td>1</td>\n",
       "      <td>2014-09-07T12:00:00-05:00</td>\n",
       "      <td>Chiefs</td>\n",
       "      <td>10</td>\n",
       "      <td>26</td>\n",
       "      <td>Titans</td>\n",
       "    </tr>\n",
       "    <tr>\n",
       "      <th>3</th>\n",
       "      <td>2014</td>\n",
       "      <td>1</td>\n",
       "      <td>2014-09-07T12:00:00-05:00</td>\n",
       "      <td>Dolphins</td>\n",
       "      <td>33</td>\n",
       "      <td>20</td>\n",
       "      <td>Patriots</td>\n",
       "    </tr>\n",
       "    <tr>\n",
       "      <th>4</th>\n",
       "      <td>2014</td>\n",
       "      <td>1</td>\n",
       "      <td>2014-09-07T12:00:00-05:00</td>\n",
       "      <td>Eagles</td>\n",
       "      <td>34</td>\n",
       "      <td>17</td>\n",
       "      <td>Jaguars</td>\n",
       "    </tr>\n",
       "  </tbody>\n",
       "</table>\n",
       "</div>"
      ],
      "text/plain": [
       "   season  week                    kickoff home_team  home_score  \\\n",
       "0    2014     1  2014-09-04T19:30:00-05:00  Seahawks          36   \n",
       "1    2014     1  2014-09-07T12:00:00-05:00     Bears          20   \n",
       "2    2014     1  2014-09-07T12:00:00-05:00    Chiefs          10   \n",
       "3    2014     1  2014-09-07T12:00:00-05:00  Dolphins          33   \n",
       "4    2014     1  2014-09-07T12:00:00-05:00    Eagles          34   \n",
       "\n",
       "   visitors_score visiting_team  \n",
       "0              16       Packers  \n",
       "1              23         Bills  \n",
       "2              26        Titans  \n",
       "3              20      Patriots  \n",
       "4              17       Jaguars  "
      ]
     },
     "execution_count": 4,
     "metadata": {},
     "output_type": "execute_result"
    }
   ],
   "source": [
    "nfl = pd.read_csv(\"data/nfl.csv\")\n",
    "nfl.head()"
   ]
  },
  {
   "cell_type": "code",
   "execution_count": 5,
   "metadata": {},
   "outputs": [
    {
     "name": "stdout",
     "output_type": "stream",
     "text": [
      "<class 'numpy.int64'>\n",
      "<class 'str'>\n",
      "20\n"
     ]
    }
   ],
   "source": [
    "print(type(nfl[\"home_score\"][1]))\n",
    "print(type(nfl[\"home_team\"][1]))\n",
    "print(nfl[\"home_score\"][1])"
   ]
  },
  {
   "cell_type": "code",
   "execution_count": 6,
   "metadata": {},
   "outputs": [],
   "source": [
    "for team in nfl[\"home_team\"]:\n",
    "    for item in team:\n",
    "        if item == \"Patriots\":\n",
    "            print(item)"
   ]
  },
  {
   "cell_type": "code",
   "execution_count": null,
   "metadata": {},
   "outputs": [],
   "source": []
  },
  {
   "cell_type": "code",
   "execution_count": 9,
   "metadata": {},
   "outputs": [
    {
     "ename": "TypeError",
     "evalue": "string indices must be integers",
     "output_type": "error",
     "traceback": [
      "\u001b[0;31m---------------------------------------------------------------------------\u001b[0m",
      "\u001b[0;31mTypeError\u001b[0m                                 Traceback (most recent call last)",
      "\u001b[0;32m<ipython-input-9-6d7c56d28cec>\u001b[0m in \u001b[0;36m<module>\u001b[0;34m()\u001b[0m\n\u001b[1;32m      5\u001b[0m             \u001b[0mpatriots_win\u001b[0m \u001b[0;34m=\u001b[0m \u001b[0mpatriots_win\u001b[0m \u001b[0;34m+\u001b[0m \u001b[0;36m1\u001b[0m\u001b[0;34m\u001b[0m\u001b[0m\n\u001b[1;32m      6\u001b[0m     \u001b[0;32melif\u001b[0m \u001b[0mitem\u001b[0m \u001b[0;34m!=\u001b[0m \u001b[0;34m\"Patriots\"\u001b[0m\u001b[0;34m:\u001b[0m\u001b[0;34m\u001b[0m\u001b[0m\n\u001b[0;32m----> 7\u001b[0;31m         \u001b[0;32mif\u001b[0m \u001b[0mteam\u001b[0m\u001b[0;34m[\u001b[0m\u001b[0;34m\"visitors_score\"\u001b[0m\u001b[0;34m]\u001b[0m \u001b[0;34m>\u001b[0m \u001b[0mteam\u001b[0m\u001b[0;34m[\u001b[0m\u001b[0;34m\"home_score\"\u001b[0m\u001b[0;34m]\u001b[0m\u001b[0;34m:\u001b[0m\u001b[0;34m\u001b[0m\u001b[0m\n\u001b[0m\u001b[1;32m      8\u001b[0m             \u001b[0mpatriots_win\u001b[0m \u001b[0;34m=\u001b[0m \u001b[0mpatriots_win\u001b[0m \u001b[0;34m+\u001b[0m \u001b[0;36m1\u001b[0m\u001b[0;34m\u001b[0m\u001b[0m\n\u001b[1;32m      9\u001b[0m         \u001b[0;32melse\u001b[0m\u001b[0;34m:\u001b[0m\u001b[0;34m\u001b[0m\u001b[0m\n",
      "\u001b[0;31mTypeError\u001b[0m: string indices must be integers"
     ]
    }
   ],
   "source": [
    "patriots_win = 0\n",
    "\n",
    "for team in nfl[\"home_team\"]:\n",
    "    if team == \"Patriots\":\n",
    "            patriots_win = patriots_win + 1\n",
    "    elif item != \"Patriots\":\n",
    "        if team[\"visitors_score\"] > team[\"home_score\"]:\n",
    "            patriots_win = patriots_win + 1\n",
    "        else:\n",
    "            continue\n",
    "return(patriots_win)\n",
    "\n",
    "print(patriots_win)"
   ]
  },
  {
   "cell_type": "code",
   "execution_count": null,
   "metadata": {
    "collapsed": true
   },
   "outputs": [],
   "source": []
  },
  {
   "cell_type": "code",
   "execution_count": null,
   "metadata": {
    "collapsed": true
   },
   "outputs": [],
   "source": []
  }
 ],
 "metadata": {
  "kernelspec": {
   "display_name": "Python 3",
   "language": "python",
   "name": "python3"
  },
  "language_info": {
   "codemirror_mode": {
    "name": "ipython",
    "version": 3
   },
   "file_extension": ".py",
   "mimetype": "text/x-python",
   "name": "python",
   "nbconvert_exporter": "python",
   "pygments_lexer": "ipython3",
   "version": "3.6.5"
  }
 },
 "nbformat": 4,
 "nbformat_minor": 1
}
